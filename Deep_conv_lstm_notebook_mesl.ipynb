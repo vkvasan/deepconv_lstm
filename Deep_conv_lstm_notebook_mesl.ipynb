{
 "cells": [
  {
   "cell_type": "code",
   "execution_count": 1,
   "metadata": {},
   "outputs": [
    {
     "name": "stdout",
     "output_type": "stream",
     "text": [
      "usage: preprocess_data.py [-h] -i INPUT -o OUTPUT [-t {gestures,locomotion}]\n",
      "\n",
      "Preprocess OPPORTUNITY dataset\n",
      "\n",
      "optional arguments:\n",
      "  -h, --help            show this help message and exit\n",
      "  -i INPUT, --input INPUT\n",
      "                        OPPORTUNITY zip file\n",
      "  -o OUTPUT, --output OUTPUT\n",
      "                        Processed data file\n",
      "  -t {gestures,locomotion}, --task {gestures,locomotion}\n",
      "                        Type of activities to be recognized\n"
     ]
    }
   ],
   "source": [
    "!python3 preprocess_data.py -h"
   ]
  },
  {
   "cell_type": "code",
   "execution_count": 2,
   "metadata": {},
   "outputs": [
    {
     "name": "stdout",
     "output_type": "stream",
     "text": [
      "Requirement already satisfied: torch in /home/keerthiv/.local/lib/python3.9/site-packages (2.0.1+cu117)\n",
      "Requirement already satisfied: filelock in /home/keerthiv/.local/lib/python3.9/site-packages (from torch) (3.15.4)\n",
      "Requirement already satisfied: jinja2 in /home/keerthiv/.local/lib/python3.9/site-packages (from torch) (3.1.4)\n",
      "Requirement already satisfied: networkx in /home/keerthiv/.local/lib/python3.9/site-packages (from torch) (3.2.1)\n",
      "Requirement already satisfied: triton==2.0.0; platform_system == \"Linux\" and platform_machine == \"x86_64\" in /home/keerthiv/.local/lib/python3.9/site-packages (from torch) (2.0.0)\n",
      "Requirement already satisfied: sympy in /home/keerthiv/.local/lib/python3.9/site-packages (from torch) (1.13.1)\n",
      "Requirement already satisfied: typing-extensions in /home/keerthiv/.local/lib/python3.9/site-packages (from torch) (4.12.2)\n",
      "Requirement already satisfied: MarkupSafe>=2.0 in /home/keerthiv/.local/lib/python3.9/site-packages (from jinja2->torch) (2.1.5)\n",
      "Requirement already satisfied: cmake in /home/keerthiv/.local/lib/python3.9/site-packages (from triton==2.0.0; platform_system == \"Linux\" and platform_machine == \"x86_64\"->torch) (3.25.0)\n",
      "Requirement already satisfied: lit in /home/keerthiv/.local/lib/python3.9/site-packages (from triton==2.0.0; platform_system == \"Linux\" and platform_machine == \"x86_64\"->torch) (15.0.7)\n",
      "Requirement already satisfied: mpmath<1.4,>=1.1.0 in /home/keerthiv/.local/lib/python3.9/site-packages (from sympy->torch) (1.3.0)\n",
      "Note: you may need to restart the kernel to use updated packages.\n"
     ]
    }
   ],
   "source": [
    "pip install torch"
   ]
  },
  {
   "cell_type": "code",
   "execution_count": 3,
   "metadata": {},
   "outputs": [
    {
     "name": "stdout",
     "output_type": "stream",
     "text": [
      "Looking in indexes: https://download.pytorch.org/whl/cu117\n",
      "Requirement already satisfied: torch==2.0.1+cu117 in /home/keerthiv/.local/lib/python3.9/site-packages (2.0.1+cu117)\n",
      "Requirement already satisfied: torchvision==0.15.2+cu117 in /home/keerthiv/.local/lib/python3.9/site-packages (0.15.2+cu117)\n",
      "Requirement already satisfied: torchaudio==2.0.2+cu117 in /home/keerthiv/.local/lib/python3.9/site-packages (2.0.2+cu117)\n",
      "Requirement already satisfied: sympy in /home/keerthiv/.local/lib/python3.9/site-packages (from torch==2.0.1+cu117) (1.13.1)\n",
      "Requirement already satisfied: filelock in /home/keerthiv/.local/lib/python3.9/site-packages (from torch==2.0.1+cu117) (3.15.4)\n",
      "Requirement already satisfied: triton==2.0.0; platform_system == \"Linux\" and platform_machine == \"x86_64\" in /home/keerthiv/.local/lib/python3.9/site-packages (from torch==2.0.1+cu117) (2.0.0)\n",
      "Requirement already satisfied: typing-extensions in /home/keerthiv/.local/lib/python3.9/site-packages (from torch==2.0.1+cu117) (4.12.2)\n",
      "Requirement already satisfied: networkx in /home/keerthiv/.local/lib/python3.9/site-packages (from torch==2.0.1+cu117) (3.2.1)\n",
      "Requirement already satisfied: jinja2 in /home/keerthiv/.local/lib/python3.9/site-packages (from torch==2.0.1+cu117) (3.1.4)\n",
      "Requirement already satisfied: numpy in /home/keerthiv/.local/lib/python3.9/site-packages (from torchvision==0.15.2+cu117) (1.26.3)\n",
      "Requirement already satisfied: pillow!=8.3.*,>=5.3.0 in /usr/lib/python3/dist-packages (from torchvision==0.15.2+cu117) (7.0.0)\n",
      "Requirement already satisfied: requests in /usr/lib/python3/dist-packages (from torchvision==0.15.2+cu117) (2.22.0)\n",
      "Requirement already satisfied: mpmath<1.4,>=1.1.0 in /home/keerthiv/.local/lib/python3.9/site-packages (from sympy->torch==2.0.1+cu117) (1.3.0)\n",
      "Requirement already satisfied: cmake in /home/keerthiv/.local/lib/python3.9/site-packages (from triton==2.0.0; platform_system == \"Linux\" and platform_machine == \"x86_64\"->torch==2.0.1+cu117) (3.25.0)\n",
      "Requirement already satisfied: lit in /home/keerthiv/.local/lib/python3.9/site-packages (from triton==2.0.0; platform_system == \"Linux\" and platform_machine == \"x86_64\"->torch==2.0.1+cu117) (15.0.7)\n",
      "Requirement already satisfied: MarkupSafe>=2.0 in /home/keerthiv/.local/lib/python3.9/site-packages (from jinja2->torch==2.0.1+cu117) (2.1.5)\n",
      "Note: you may need to restart the kernel to use updated packages.\n"
     ]
    }
   ],
   "source": [
    "pip install torch==2.0.1+cu117 torchvision==0.15.2+cu117 torchaudio==2.0.2+cu117 --index-url https://download.pytorch.org/whl/cu117"
   ]
  },
  {
   "cell_type": "code",
   "execution_count": 4,
   "metadata": {},
   "outputs": [
    {
     "name": "stdout",
     "output_type": "stream",
     "text": [
      "Requirement already satisfied: scikit-learn in /home/keerthiv/.local/lib/python3.9/site-packages (1.5.1)\n",
      "Requirement already satisfied: threadpoolctl>=3.1.0 in /home/keerthiv/.local/lib/python3.9/site-packages (from scikit-learn) (3.5.0)\n",
      "Requirement already satisfied: joblib>=1.2.0 in /home/keerthiv/.local/lib/python3.9/site-packages (from scikit-learn) (1.4.2)\n",
      "Requirement already satisfied: numpy>=1.19.5 in /home/keerthiv/.local/lib/python3.9/site-packages (from scikit-learn) (1.26.3)\n",
      "Requirement already satisfied: scipy>=1.6.0 in /home/keerthiv/.local/lib/python3.9/site-packages (from scikit-learn) (1.13.1)\n",
      "Note: you may need to restart the kernel to use updated packages.\n"
     ]
    }
   ],
   "source": [
    "pip install scikit-learn"
   ]
  },
  {
   "cell_type": "code",
   "execution_count": 10,
   "metadata": {},
   "outputs": [],
   "source": [
    "import os\n",
    "os.environ['CUDA_LAUNCH_BLOCKING'] = '1'\n",
    "\n",
    "import torch\n",
    "import torch.nn as nn\n",
    "import torch.optim as optim\n",
    "import numpy as np\n",
    "from sklearn.metrics import precision_score, recall_score, f1_score, accuracy_score"
   ]
  },
  {
   "cell_type": "code",
   "execution_count": 11,
   "metadata": {},
   "outputs": [
    {
     "name": "stdout",
     "output_type": "stream",
     "text": [
      "X_train shape: (4953, 150, 9)\n",
      "X_test shape: (1320, 150, 9)\n",
      "y_train shape: (4953,)\n",
      "y_test shape: (1320,)\n",
      "Unique values in y_train: [ 0  1  3  5  7  8 11 15 21 23 25]\n",
      "Unique values in y_test: [ 0  1  3  5  7  8 11 15 21 23 25]\n",
      "Train data shape after reshape: (4953, 1, 150, 9)\n",
      "Test data shape after reshape: (1320, 1, 150, 9)\n",
      "Using device: cuda\n"
     ]
    }
   ],
   "source": [
    "# Load the datasets from the provided files\n",
    "X_train = np.load('./mesl_data/x_train.npy')\n",
    "X_test = np.load('./mesl_data/x_test.npy')\n",
    "y_train = np.load('./mesl_data/y_train.npy')\n",
    "y_test = np.load('./mesl_data/y_test.npy')\n",
    "\n",
    "# Verify the shapes of the data\n",
    "print(\"X_train shape:\", X_train.shape)\n",
    "print(\"X_test shape:\", X_test.shape)\n",
    "print(\"y_train shape:\", y_train.shape)\n",
    "print(\"y_test shape:\", y_test.shape)\n",
    "\n",
    "# Check the unique values in y_train and y_test\n",
    "print(\"Unique values in y_train:\", np.unique(y_train))\n",
    "print(\"Unique values in y_test:\", np.unique(y_test))\n",
    "\n",
    "# Ensure all labels are within the correct range\n",
    "assert np.all((y_train >= 0) & (y_train < 26)), \"y_train contains out-of-range values\"\n",
    "assert np.all((y_test >= 0) & (y_test < 26)), \"y_test contains out-of-range values\"\n",
    "\n",
    "# Normalize data\n",
    "def normalize(data):\n",
    "    mean = np.mean(data, axis=0)\n",
    "    std = np.std(data, axis=0)\n",
    "    return (data - mean) / std\n",
    "\n",
    "# Normalize the data\n",
    "X_train = normalize(X_train)\n",
    "X_test = normalize(X_test)\n",
    "\n",
    "# Convert data to float32\n",
    "X_train = X_train.astype(np.float32)\n",
    "X_test = X_test.astype(np.float32)\n",
    "y_train = y_train.astype(np.int64)  # Ensuring labels are in int64\n",
    "y_test = y_test.astype(np.int64)    # Ensuring labels are in int64\n",
    "\n",
    "# Reshape data for the model\n",
    "X_train = X_train.reshape((-1, 1, X_train.shape[1], X_train.shape[2]))\n",
    "X_test = X_test.reshape((-1, 1, X_test.shape[1], X_test.shape[2]))\n",
    "\n",
    "print(f\"Train data shape after reshape: {X_train.shape}\")\n",
    "print(f\"Test data shape after reshape: {X_test.shape}\")\n",
    "\n",
    "# Define device\n",
    "device = torch.device(\"cuda\" if torch.cuda.is_available() else \"cpu\")\n",
    "print(f\"Using device: {device}\")"
   ]
  },
  {
   "cell_type": "code",
   "execution_count": 12,
   "metadata": {},
   "outputs": [],
   "source": [
    "# Hardcoded parameters for the new dataset\n",
    "NB_SENSOR_CHANNELS = 9\n",
    "NUM_CLASSES = 26  # Updated number of classes\n",
    "SLIDING_WINDOW_LENGTH = 150\n",
    "BATCH_SIZE = 16\n",
    "NUM_FILTERS = 64\n",
    "FILTER_SIZE = 5\n",
    "NUM_UNITS_LSTM = 128\n",
    "LEARNING_RATE = 0.0001\n",
    "NUM_EPOCHS = 150\n"
   ]
  },
  {
   "cell_type": "code",
   "execution_count": 13,
   "metadata": {},
   "outputs": [],
   "source": [
    "# Define the network\n",
    "class DeepConvLSTM(nn.Module):\n",
    "    def __init__(self):\n",
    "        super(DeepConvLSTM, self).__init__()\n",
    "        self.conv1 = nn.Conv2d(1, NUM_FILTERS, (FILTER_SIZE, 1))\n",
    "        self.conv2 = nn.Conv2d(NUM_FILTERS, NUM_FILTERS, (FILTER_SIZE, 1))\n",
    "        self.conv3 = nn.Conv2d(NUM_FILTERS, NUM_FILTERS, (FILTER_SIZE, 1))\n",
    "        self.conv4 = nn.Conv2d(NUM_FILTERS, NUM_FILTERS, (FILTER_SIZE, 1))\n",
    "        self.lstm1 = nn.LSTM(NUM_FILTERS * NB_SENSOR_CHANNELS, NUM_UNITS_LSTM, batch_first=True)\n",
    "        self.lstm2 = nn.LSTM(NUM_UNITS_LSTM, NUM_UNITS_LSTM, batch_first=True)\n",
    "        self.fc = nn.Linear(NUM_UNITS_LSTM, NUM_CLASSES)\n",
    "\n",
    "        # Weight initialization\n",
    "        nn.init.kaiming_uniform_(self.conv1.weight, nonlinearity='relu')\n",
    "        nn.init.kaiming_uniform_(self.conv2.weight, nonlinearity='relu')\n",
    "        nn.init.kaiming_uniform_(self.conv3.weight, nonlinearity='relu')\n",
    "        nn.init.kaiming_uniform_(self.conv4.weight, nonlinearity='relu')\n",
    "        nn.init.xavier_uniform_(self.fc.weight)\n",
    "\n",
    "    def forward(self, x):\n",
    "        x = torch.relu(self.conv1(x))\n",
    "        x = torch.relu(self.conv2(x))\n",
    "        x = torch.relu(self.conv3(x))\n",
    "        x = torch.relu(self.conv4(x))\n",
    "        x = x.permute(0, 2, 1, 3).contiguous().view(x.size(0), x.size(2), -1)\n",
    "        x, _ = self.lstm1(x)\n",
    "        x, _ = self.lstm2(x)\n",
    "        x = self.fc(x[:, -1, :])\n",
    "        return x"
   ]
  },
  {
   "cell_type": "code",
   "execution_count": 14,
   "metadata": {},
   "outputs": [
    {
     "name": "stdout",
     "output_type": "stream",
     "text": [
      "Model initialized and moved to GPU\n"
     ]
    }
   ],
   "source": [
    "# Create datasets and dataloaders\n",
    "train_data = torch.utils.data.TensorDataset(torch.tensor(X_train), torch.tensor(y_train))\n",
    "test_data = torch.utils.data.TensorDataset(torch.tensor(X_test), torch.tensor(y_test))\n",
    "train_loader = torch.utils.data.DataLoader(train_data, batch_size=BATCH_SIZE, shuffle=True)\n",
    "test_loader = torch.utils.data.DataLoader(test_data, batch_size=BATCH_SIZE, shuffle=False)\n",
    "\n",
    "# Initialize the model, loss function and optimizer\n",
    "try:\n",
    "    model = DeepConvLSTM().to(device)\n",
    "    print(\"Model initialized and moved to GPU\")\n",
    "except RuntimeError as e:\n",
    "    print(f\"Error initializing model: {e}\")\n",
    "    raise\n",
    "\n",
    "criterion = nn.CrossEntropyLoss()\n",
    "optimizer = optim.Adam(model.parameters(), lr=LEARNING_RATE)"
   ]
  },
  {
   "cell_type": "code",
   "execution_count": 15,
   "metadata": {},
   "outputs": [
    {
     "name": "stdout",
     "output_type": "stream",
     "text": [
      "Epoch 1/150, Loss: 1.560770506435825\n",
      "Epoch 2/150, Loss: 0.4951363415727692\n",
      "Epoch 3/150, Loss: 0.33130222104730145\n",
      "Epoch 4/150, Loss: 0.25599505821423185\n",
      "Epoch 5/150, Loss: 0.23080360497978905\n",
      "Epoch 6/150, Loss: 0.20271487363554055\n",
      "Epoch 7/150, Loss: 0.19189216710416782\n",
      "Epoch 8/150, Loss: 0.16401366484351457\n",
      "Epoch 9/150, Loss: 0.14310208633241633\n",
      "Epoch 10/150, Loss: 0.1344923469008908\n",
      "Epoch 11/150, Loss: 0.13497308308686762\n",
      "Epoch 12/150, Loss: 0.10293956428743718\n",
      "Epoch 13/150, Loss: 0.09468569642931764\n",
      "Epoch 14/150, Loss: 0.0837710882863781\n",
      "Epoch 15/150, Loss: 0.0926014211661588\n",
      "Epoch 16/150, Loss: 0.07075628312886692\n",
      "Epoch 17/150, Loss: 0.06683134124633075\n",
      "Epoch 18/150, Loss: 0.0629538120735707\n",
      "Epoch 19/150, Loss: 0.06946136794933644\n",
      "Epoch 20/150, Loss: 0.06189132843545878\n",
      "Epoch 21/150, Loss: 0.0626248260683027\n",
      "Epoch 22/150, Loss: 0.04570307924755804\n",
      "Epoch 23/150, Loss: 0.04520913874814963\n",
      "Epoch 24/150, Loss: 0.030975180126317295\n",
      "Epoch 25/150, Loss: 0.02801809338204968\n",
      "Epoch 26/150, Loss: 0.03811336003667337\n",
      "Epoch 27/150, Loss: 0.03130715677740931\n",
      "Epoch 28/150, Loss: 0.02795250854687765\n",
      "Epoch 29/150, Loss: 0.02485615427210559\n",
      "Epoch 30/150, Loss: 0.02311220978900242\n",
      "Epoch 31/150, Loss: 0.02749304079648761\n",
      "Epoch 32/150, Loss: 0.03397898494280995\n",
      "Epoch 33/150, Loss: 0.046399907915990975\n",
      "Epoch 34/150, Loss: 0.025089289301737858\n",
      "Epoch 35/150, Loss: 0.025526641510124695\n",
      "Epoch 36/150, Loss: 0.020931052763649684\n",
      "Epoch 37/150, Loss: 0.0138022978013924\n",
      "Epoch 38/150, Loss: 0.012351423423974812\n",
      "Epoch 39/150, Loss: 0.02521577850408991\n",
      "Epoch 40/150, Loss: 0.027810576903791497\n",
      "Epoch 41/150, Loss: 0.019427061625714077\n",
      "Epoch 42/150, Loss: 0.009368826496492764\n",
      "Epoch 43/150, Loss: 0.02546254655032\n",
      "Epoch 44/150, Loss: 0.023116628336860994\n",
      "Epoch 45/150, Loss: 0.018088745755319963\n",
      "Epoch 46/150, Loss: 0.018700562874941932\n",
      "Epoch 47/150, Loss: 0.01908158046908577\n",
      "Epoch 48/150, Loss: 0.008262963684108164\n",
      "Epoch 49/150, Loss: 0.023957610403393177\n",
      "Epoch 50/150, Loss: 0.02660704293585666\n",
      "Epoch 51/150, Loss: 0.006465028345325752\n",
      "Epoch 52/150, Loss: 0.011525545815675286\n",
      "Epoch 53/150, Loss: 0.00920707602496306\n",
      "Epoch 54/150, Loss: 0.015338100824268504\n",
      "Epoch 55/150, Loss: 0.0113545433231329\n",
      "Epoch 56/150, Loss: 0.011656892190583149\n",
      "Epoch 57/150, Loss: 0.013860513445967714\n",
      "Epoch 58/150, Loss: 0.007941549284136741\n",
      "Epoch 59/150, Loss: 0.009171967229468142\n",
      "Epoch 60/150, Loss: 0.01045811679166124\n",
      "Epoch 61/150, Loss: 0.0054196119542710575\n",
      "Epoch 62/150, Loss: 0.005307082300485842\n",
      "Epoch 63/150, Loss: 0.012994825564525062\n",
      "Epoch 64/150, Loss: 0.01718563462061631\n",
      "Epoch 65/150, Loss: 0.019424825031796166\n",
      "Epoch 66/150, Loss: 0.011644322005251466\n",
      "Epoch 67/150, Loss: 0.00589135657190479\n",
      "Epoch 68/150, Loss: 0.0036154966479737213\n",
      "Epoch 69/150, Loss: 0.006310186397492925\n",
      "Epoch 70/150, Loss: 0.018447150226394673\n",
      "Epoch 71/150, Loss: 0.012823695646740465\n",
      "Epoch 72/150, Loss: 0.007876107656122787\n",
      "Epoch 73/150, Loss: 0.012635973986403592\n",
      "Epoch 74/150, Loss: 0.013629347579861192\n",
      "Epoch 75/150, Loss: 0.01787726995890778\n",
      "Epoch 76/150, Loss: 0.0032287821748175176\n",
      "Epoch 77/150, Loss: 0.0122920516582634\n",
      "Epoch 78/150, Loss: 0.015483617158632466\n",
      "Epoch 79/150, Loss: 0.006300118286626164\n",
      "Epoch 80/150, Loss: 0.0005635084600726259\n",
      "Epoch 81/150, Loss: 0.007890461442486648\n",
      "Epoch 82/150, Loss: 0.012701880600516526\n",
      "Epoch 83/150, Loss: 0.021840374714397072\n",
      "Epoch 84/150, Loss: 0.008107333490419654\n",
      "Epoch 85/150, Loss: 0.0052828935824201775\n",
      "Epoch 86/150, Loss: 0.0013079493619267352\n",
      "Epoch 87/150, Loss: 0.005958890913781591\n",
      "Epoch 88/150, Loss: 0.006172146135040454\n",
      "Epoch 89/150, Loss: 0.010541017975068708\n",
      "Epoch 90/150, Loss: 0.017623708154931063\n",
      "Epoch 91/150, Loss: 0.0022858176149413573\n",
      "Epoch 92/150, Loss: 0.004159458818324516\n",
      "Epoch 93/150, Loss: 0.0012771344359539544\n",
      "Epoch 94/150, Loss: 0.005991763338533929\n",
      "Epoch 95/150, Loss: 0.0064876548047909785\n",
      "Epoch 96/150, Loss: 0.008529274043370783\n",
      "Epoch 97/150, Loss: 0.010837900568675386\n",
      "Epoch 98/150, Loss: 0.009705472109351009\n",
      "Epoch 99/150, Loss: 0.006444273167019879\n",
      "Epoch 100/150, Loss: 0.005756186434052412\n",
      "Epoch 101/150, Loss: 0.0052336712258663955\n",
      "Epoch 102/150, Loss: 0.0016785600707642575\n",
      "Epoch 103/150, Loss: 3.771712095371068e-05\n",
      "Epoch 104/150, Loss: 1.794867160594637e-05\n",
      "Epoch 105/150, Loss: 1.5357730180473863e-05\n",
      "Epoch 106/150, Loss: 1.3633853869842208e-05\n",
      "Epoch 107/150, Loss: 1.2199109562882973e-05\n",
      "Epoch 108/150, Loss: 1.0960380284579456e-05\n",
      "Epoch 109/150, Loss: 9.866059649392545e-06\n",
      "Epoch 110/150, Loss: 8.87886640157376e-06\n",
      "Epoch 111/150, Loss: 7.972000682251923e-06\n",
      "Epoch 112/150, Loss: 7.1464699035019414e-06\n",
      "Epoch 113/150, Loss: 6.4015833811114835e-06\n",
      "Epoch 114/150, Loss: 5.722783328477113e-06\n",
      "Epoch 115/150, Loss: 5.1077609001485176e-06\n",
      "Epoch 116/150, Loss: 4.554302061097264e-06\n",
      "Epoch 117/150, Loss: 4.039852469686006e-06\n",
      "Epoch 118/150, Loss: 3.5754828419862126e-06\n",
      "Epoch 119/150, Loss: 3.1687251829416418e-06\n",
      "Epoch 120/150, Loss: 2.8204738294980124e-06\n",
      "Epoch 121/150, Loss: 2.503544579491474e-06\n",
      "Epoch 122/150, Loss: 2.215057420764952e-06\n",
      "Epoch 123/150, Loss: 1.956392485307069e-06\n",
      "Epoch 124/150, Loss: 1.725216447774132e-06\n",
      "Epoch 125/150, Loss: 1.523630583271311e-06\n",
      "Epoch 126/150, Loss: 1.3371163568594527e-06\n",
      "Epoch 127/150, Loss: 1.1727210848690565e-06\n",
      "Epoch 128/150, Loss: 1.0275208612051023e-06\n",
      "Epoch 129/150, Loss: 9.039192139337707e-07\n",
      "Epoch 130/150, Loss: 8.077855001844117e-07\n",
      "Epoch 131/150, Loss: 7.928017730995224e-07\n",
      "Epoch 132/150, Loss: 0.09409401751543192\n",
      "Epoch 133/150, Loss: 0.010961970088673327\n",
      "Epoch 134/150, Loss: 0.0006522449385732715\n",
      "Epoch 135/150, Loss: 0.000691979612014943\n",
      "Epoch 136/150, Loss: 2.5891380116058092e-05\n",
      "Epoch 137/150, Loss: 1.5183830055320868e-05\n",
      "Epoch 138/150, Loss: 1.2253452053212847e-05\n",
      "Epoch 139/150, Loss: 1.0559170964957194e-05\n",
      "Epoch 140/150, Loss: 9.223539566318645e-06\n",
      "Epoch 141/150, Loss: 8.111168487571816e-06\n",
      "Epoch 142/150, Loss: 7.144328208875278e-06\n",
      "Epoch 143/150, Loss: 6.293526447617267e-06\n",
      "Epoch 144/150, Loss: 5.615838718005116e-06\n",
      "Epoch 145/150, Loss: 5.0087919233984365e-06\n",
      "Epoch 146/150, Loss: 4.466296754725913e-06\n",
      "Epoch 147/150, Loss: 3.969670878646983e-06\n",
      "Epoch 148/150, Loss: 3.5448482028568247e-06\n",
      "Epoch 149/150, Loss: 3.1727816459322404e-06\n",
      "Epoch 150/150, Loss: 2.8474597247769717e-06\n"
     ]
    }
   ],
   "source": [
    "# Training loop\n",
    "for epoch in range(NUM_EPOCHS):\n",
    "    model.train()\n",
    "    train_loss = 0\n",
    "    for inputs, targets in train_loader:\n",
    "        inputs, targets = inputs.to('cuda'), targets.to('cuda')\n",
    "        optimizer.zero_grad()\n",
    "        outputs = model(inputs)\n",
    "        loss = criterion(outputs, targets)\n",
    "        loss.backward()\n",
    "\n",
    "        # Gradient clipping\n",
    "        torch.nn.utils.clip_grad_norm_(model.parameters(), max_norm=1.0)\n",
    "\n",
    "        optimizer.step()\n",
    "        train_loss += loss.item()\n",
    "\n",
    "    print(f\"Epoch {epoch + 1}/{NUM_EPOCHS}, Loss: {train_loss / len(train_loader)}\")\n"
   ]
  },
  {
   "cell_type": "code",
   "execution_count": 16,
   "metadata": {},
   "outputs": [],
   "source": [
    "# Save the model parameters\n",
    "torch.save(model.state_dict(), 'weights/DeepConvLSTM_trained_mesl_data.pth')\n",
    "\n",
    "# Evaluation\n",
    "model.eval()\n",
    "test_pred = []\n",
    "test_true = []\n",
    "with torch.no_grad():\n",
    "    for inputs, targets in test_loader:\n",
    "        inputs, targets = inputs.to('cuda'), targets.to('cuda')\n",
    "        outputs = model(inputs)\n",
    "        _, preds = torch.max(outputs, 1)\n",
    "        test_pred.extend(preds.cpu().numpy())\n",
    "        test_true.extend(targets.cpu().numpy())"
   ]
  },
  {
   "cell_type": "code",
   "execution_count": 17,
   "metadata": {},
   "outputs": [
    {
     "name": "stdout",
     "output_type": "stream",
     "text": [
      "Test Accuracy: 0.9038\n",
      "Macro Precision: 0.9128\n",
      "Macro Recall: 0.9038\n",
      "Macro F1-score: 0.9000\n"
     ]
    }
   ],
   "source": [
    "# Calculate metrics\n",
    "accuracy = accuracy_score(test_true, test_pred)\n",
    "macro_precision = precision_score(test_true, test_pred, average='macro')\n",
    "macro_recall = recall_score(test_true, test_pred, average='macro')\n",
    "macro_f1 = f1_score(test_true, test_pred, average='macro')\n",
    "\n",
    "# Results presentation\n",
    "print(f\"Test Accuracy: {accuracy:.4f}\")\n",
    "print(f\"Macro Precision: {macro_precision:.4f}\")\n",
    "print(f\"Macro Recall: {macro_recall:.4f}\")\n",
    "print(f\"Macro F1-score: {macro_f1:.4f}\")"
   ]
  }
 ],
 "metadata": {
  "kernelspec": {
   "display_name": "Python 3",
   "language": "python",
   "name": "python3"
  },
  "language_info": {
   "codemirror_mode": {
    "name": "ipython",
    "version": 3
   },
   "file_extension": ".py",
   "mimetype": "text/x-python",
   "name": "python",
   "nbconvert_exporter": "python",
   "pygments_lexer": "ipython3",
   "version": "3.9.19"
  }
 },
 "nbformat": 4,
 "nbformat_minor": 2
}
